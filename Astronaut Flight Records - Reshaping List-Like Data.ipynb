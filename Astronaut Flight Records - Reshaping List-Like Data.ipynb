{
    "cells": [
        {
            "cell_type": "markdown",
            "metadata": {},
            "source": "# Astronaut Flight Records: Reshaping List-Like Data"
        },
        {
            "cell_type": "markdown",
            "metadata": {},
            "source": "## Table of Contents\n\n1. Introduction\n2. Install & Import Packages\n3. Read In & Check Data\n4. High-Level Exploration\n5. Reshape List-Like Data"
        },
        {
            "cell_type": "markdown",
            "metadata": {},
            "source": "## 1. Introduction\n\nWe often encounter messy list-like or string data that needs to be reshaped into separate rows for futher analysis, including genres, reviews, products, names, etc. Today, we'll walk through reshaping and cleaning up list-like data. We'll work with astronaut flight records from the CSIS International Astronaut Database (https://aerospace.csis.org/data/international-astronaut-database/) in which \"astronaut\" is defined as someone who has flown to an altitude of 100km or higher. The 'Flights' column includes a string of spacecraft for each astronaut. \n\nBefore reshaping, we couldn't help but do some high-level exploration of the original data. We discovered that:\n\n- 568 people, including 504 men and 64 women, from 42 countries have gone to space\n- Humans have spent a total of 55918 days, 7005 hours, and 16323 minutes in space\n- Gennady Padalka from Russia has spent the most amount of time in space at 878 days, 11 hours, and 29 minutes\n\nWe've also created dataframes for all women who've gone to space and number of astronauts by country. There's alot more we could dig into like flights and country trends over time, but let's focus on reshaping.\n\nTo reshape list-like data into separate rows, we'll set .assign() to values of split strings to 'Flights' column and apply .explode(). We'll create new Spacecraft and Year columns, splitting original messy 'Flights' string and set expand argument to True to create new columns. We'll then clean up and set the dataframe to the format we want. The purpose is to reshape list-like data into a dataframe focused on individual astronauts with each spacecraft in which they traveled."
        },
        {
            "cell_type": "markdown",
            "metadata": {},
            "source": "## 2. Install & Import Packages"
        },
        {
            "cell_type": "code",
            "execution_count": 344,
            "metadata": {},
            "outputs": [],
            "source": "import pandas as pd\nimport numpy as np\nfrom datetime import datetime"
        },
        {
            "cell_type": "markdown",
            "metadata": {},
            "source": "## 3. Read In & Check Data"
        },
        {
            "cell_type": "code",
            "execution_count": 345,
            "metadata": {},
            "outputs": [],
            "source": "# The code was removed by Watson Studio for sharing."
        },
        {
            "cell_type": "code",
            "execution_count": 346,
            "metadata": {},
            "outputs": [
                {
                    "data": {
                        "text/html": "<div>\n<style scoped>\n    .dataframe tbody tr th:only-of-type {\n        vertical-align: middle;\n    }\n\n    .dataframe tbody tr th {\n        vertical-align: top;\n    }\n\n    .dataframe thead th {\n        text-align: right;\n    }\n</style>\n<table border=\"1\" class=\"dataframe\">\n  <thead>\n    <tr style=\"text-align: right;\">\n      <th></th>\n      <th>Name</th>\n      <th>Country</th>\n      <th>Gender</th>\n      <th>Flights</th>\n      <th>Total Flights</th>\n      <th>Total Flight Time (ddd:hh:mm)</th>\n    </tr>\n  </thead>\n  <tbody>\n    <tr>\n      <th>0</th>\n      <td>Zhang Xiaoguang</td>\n      <td>China</td>\n      <td>Man</td>\n      <td>Shenzhou 10 (2013)</td>\n      <td>1</td>\n      <td>014:14:28</td>\n    </tr>\n    <tr>\n      <th>1</th>\n      <td>Zhai Zhigang</td>\n      <td>China</td>\n      <td>Man</td>\n      <td>Shenzhou 7 (2008)</td>\n      <td>1</td>\n      <td>002:20:26</td>\n    </tr>\n    <tr>\n      <th>2</th>\n      <td>Yury Usachov</td>\n      <td>Russia</td>\n      <td>Man</td>\n      <td>Soyuz TM-18 (1994), Soyuz TM-23 (1996), STS-10...</td>\n      <td>4</td>\n      <td>552:22:24</td>\n    </tr>\n    <tr>\n      <th>3</th>\n      <td>Yuri Shargin</td>\n      <td>Russia</td>\n      <td>Man</td>\n      <td>Soyuz TMA-5 (2004)</td>\n      <td>1</td>\n      <td>009:21:29</td>\n    </tr>\n    <tr>\n      <th>4</th>\n      <td>Yuri Romanenko</td>\n      <td>Soviet Union</td>\n      <td>Man</td>\n      <td>Soyuz 26 (1977), Soyuz 38 (1980), Soyuz TM-2 (...</td>\n      <td>3</td>\n      <td>430:18:21</td>\n    </tr>\n    <tr>\n      <th>563</th>\n      <td>Alan Shepard</td>\n      <td>United States</td>\n      <td>Man</td>\n      <td>Mercury-Redstone 3 (1961), Apollo 14 (1971)</td>\n      <td>2</td>\n      <td>009:00:17</td>\n    </tr>\n    <tr>\n      <th>564</th>\n      <td>Alan G. Poindexter</td>\n      <td>United States</td>\n      <td>Man</td>\n      <td>STS-122 (2008), STS-131 (2010)</td>\n      <td>2</td>\n      <td>027:21:09</td>\n    </tr>\n    <tr>\n      <th>565</th>\n      <td>Alan Bean</td>\n      <td>United States</td>\n      <td>Man</td>\n      <td>Apollo 12 (1969), Skylab 3 (1973)</td>\n      <td>2</td>\n      <td>069:15:45</td>\n    </tr>\n    <tr>\n      <th>566</th>\n      <td>Akihiko Hoshide</td>\n      <td>Japan</td>\n      <td>Man</td>\n      <td>STS-124 (2008), Soyuz TMA-05M (2012)</td>\n      <td>2</td>\n      <td>140:17:26</td>\n    </tr>\n    <tr>\n      <th>567</th>\n      <td>Abdul Ahad Mohmand</td>\n      <td>Afghanistan</td>\n      <td>Man</td>\n      <td>Soyuz TM-6 (1988)</td>\n      <td>1</td>\n      <td>008:20:26</td>\n    </tr>\n  </tbody>\n</table>\n</div>",
                        "text/plain": "                   Name        Country Gender  \\\n0       Zhang Xiaoguang          China    Man   \n1          Zhai Zhigang          China    Man   \n2          Yury Usachov         Russia    Man   \n3          Yuri Shargin         Russia    Man   \n4        Yuri Romanenko   Soviet Union    Man   \n563        Alan Shepard  United States    Man   \n564  Alan G. Poindexter  United States    Man   \n565           Alan Bean  United States    Man   \n566     Akihiko Hoshide          Japan    Man   \n567  Abdul Ahad Mohmand    Afghanistan    Man   \n\n                                               Flights  Total Flights  \\\n0                                   Shenzhou 10 (2013)              1   \n1                                    Shenzhou 7 (2008)              1   \n2    Soyuz TM-18 (1994), Soyuz TM-23 (1996), STS-10...              4   \n3                                   Soyuz TMA-5 (2004)              1   \n4    Soyuz 26 (1977), Soyuz 38 (1980), Soyuz TM-2 (...              3   \n563        Mercury-Redstone 3 (1961), Apollo 14 (1971)              2   \n564                     STS-122 (2008), STS-131 (2010)              2   \n565                  Apollo 12 (1969), Skylab 3 (1973)              2   \n566               STS-124 (2008), Soyuz TMA-05M (2012)              2   \n567                                  Soyuz TM-6 (1988)              1   \n\n    Total Flight Time (ddd:hh:mm)  \n0                       014:14:28  \n1                       002:20:26  \n2                       552:22:24  \n3                       009:21:29  \n4                       430:18:21  \n563                     009:00:17  \n564                     027:21:09  \n565                     069:15:45  \n566                     140:17:26  \n567                     008:20:26  "
                    },
                    "execution_count": 346,
                    "metadata": {},
                    "output_type": "execute_result"
                }
            ],
            "source": "# Read in dataframe\nastronauts = pd.read_csv(body)\n\n# Check first and last 5 rows - we see that 'Flights' is column of comma-separated strings\npd.concat([astronauts.head(), astronauts.tail()])"
        },
        {
            "cell_type": "code",
            "execution_count": 347,
            "metadata": {},
            "outputs": [
                {
                    "data": {
                        "text/plain": "(568, 6)"
                    },
                    "execution_count": 347,
                    "metadata": {},
                    "output_type": "execute_result"
                }
            ],
            "source": "# Let's check shape - 568 astronauts have traveled to space\nastronauts.shape"
        },
        {
            "cell_type": "code",
            "execution_count": 348,
            "metadata": {},
            "outputs": [
                {
                    "data": {
                        "text/plain": "Name                             object\nCountry                          object\nGender                           object\nFlights                          object\nTotal Flights                     int64\nTotal Flight Time (ddd:hh:mm)    object\ndtype: object"
                    },
                    "execution_count": 348,
                    "metadata": {},
                    "output_type": "execute_result"
                }
            ],
            "source": "# Check data types\nastronauts.dtypes"
        },
        {
            "cell_type": "code",
            "execution_count": 349,
            "metadata": {},
            "outputs": [],
            "source": "# Replace gender values with M and F\nastronauts['Gender'] = astronauts['Gender'].replace('Man','M')\nastronauts['Gender'] = astronauts['Gender'].replace('Woman','F')"
        },
        {
            "cell_type": "code",
            "execution_count": 350,
            "metadata": {},
            "outputs": [
                {
                    "data": {
                        "text/html": "<div>\n<style scoped>\n    .dataframe tbody tr th:only-of-type {\n        vertical-align: middle;\n    }\n\n    .dataframe tbody tr th {\n        vertical-align: top;\n    }\n\n    .dataframe thead th {\n        text-align: right;\n    }\n</style>\n<table border=\"1\" class=\"dataframe\">\n  <thead>\n    <tr style=\"text-align: right;\">\n      <th></th>\n      <th>Name</th>\n      <th>Country</th>\n      <th>Gender</th>\n      <th>Flights</th>\n      <th>Total Flights</th>\n      <th>Days</th>\n      <th>Hours</th>\n      <th>Minutes</th>\n    </tr>\n  </thead>\n  <tbody>\n    <tr>\n      <th>0</th>\n      <td>Zhang Xiaoguang</td>\n      <td>China</td>\n      <td>M</td>\n      <td>Shenzhou 10 (2013)</td>\n      <td>1</td>\n      <td>14</td>\n      <td>14</td>\n      <td>28</td>\n    </tr>\n    <tr>\n      <th>1</th>\n      <td>Zhai Zhigang</td>\n      <td>China</td>\n      <td>M</td>\n      <td>Shenzhou 7 (2008)</td>\n      <td>1</td>\n      <td>2</td>\n      <td>20</td>\n      <td>26</td>\n    </tr>\n    <tr>\n      <th>2</th>\n      <td>Yury Usachov</td>\n      <td>Russia</td>\n      <td>M</td>\n      <td>Soyuz TM-18 (1994), Soyuz TM-23 (1996), STS-10...</td>\n      <td>4</td>\n      <td>552</td>\n      <td>22</td>\n      <td>24</td>\n    </tr>\n    <tr>\n      <th>3</th>\n      <td>Yuri Shargin</td>\n      <td>Russia</td>\n      <td>M</td>\n      <td>Soyuz TMA-5 (2004)</td>\n      <td>1</td>\n      <td>9</td>\n      <td>21</td>\n      <td>29</td>\n    </tr>\n    <tr>\n      <th>4</th>\n      <td>Yuri Romanenko</td>\n      <td>Soviet Union</td>\n      <td>M</td>\n      <td>Soyuz 26 (1977), Soyuz 38 (1980), Soyuz TM-2 (...</td>\n      <td>3</td>\n      <td>430</td>\n      <td>18</td>\n      <td>21</td>\n    </tr>\n    <tr>\n      <th>...</th>\n      <td>...</td>\n      <td>...</td>\n      <td>...</td>\n      <td>...</td>\n      <td>...</td>\n      <td>...</td>\n      <td>...</td>\n      <td>...</td>\n    </tr>\n    <tr>\n      <th>563</th>\n      <td>Alan Shepard</td>\n      <td>United States</td>\n      <td>M</td>\n      <td>Mercury-Redstone 3 (1961), Apollo 14 (1971)</td>\n      <td>2</td>\n      <td>9</td>\n      <td>0</td>\n      <td>17</td>\n    </tr>\n    <tr>\n      <th>564</th>\n      <td>Alan G. Poindexter</td>\n      <td>United States</td>\n      <td>M</td>\n      <td>STS-122 (2008), STS-131 (2010)</td>\n      <td>2</td>\n      <td>27</td>\n      <td>21</td>\n      <td>9</td>\n    </tr>\n    <tr>\n      <th>565</th>\n      <td>Alan Bean</td>\n      <td>United States</td>\n      <td>M</td>\n      <td>Apollo 12 (1969), Skylab 3 (1973)</td>\n      <td>2</td>\n      <td>69</td>\n      <td>15</td>\n      <td>45</td>\n    </tr>\n    <tr>\n      <th>566</th>\n      <td>Akihiko Hoshide</td>\n      <td>Japan</td>\n      <td>M</td>\n      <td>STS-124 (2008), Soyuz TMA-05M (2012)</td>\n      <td>2</td>\n      <td>140</td>\n      <td>17</td>\n      <td>26</td>\n    </tr>\n    <tr>\n      <th>567</th>\n      <td>Abdul Ahad Mohmand</td>\n      <td>Afghanistan</td>\n      <td>M</td>\n      <td>Soyuz TM-6 (1988)</td>\n      <td>1</td>\n      <td>8</td>\n      <td>20</td>\n      <td>26</td>\n    </tr>\n  </tbody>\n</table>\n<p>568 rows \u00d7 8 columns</p>\n</div>",
                        "text/plain": "                   Name        Country Gender  \\\n0       Zhang Xiaoguang          China      M   \n1          Zhai Zhigang          China      M   \n2          Yury Usachov         Russia      M   \n3          Yuri Shargin         Russia      M   \n4        Yuri Romanenko   Soviet Union      M   \n..                  ...            ...    ...   \n563        Alan Shepard  United States      M   \n564  Alan G. Poindexter  United States      M   \n565           Alan Bean  United States      M   \n566     Akihiko Hoshide          Japan      M   \n567  Abdul Ahad Mohmand    Afghanistan      M   \n\n                                               Flights  Total Flights  Days  \\\n0                                   Shenzhou 10 (2013)              1    14   \n1                                    Shenzhou 7 (2008)              1     2   \n2    Soyuz TM-18 (1994), Soyuz TM-23 (1996), STS-10...              4   552   \n3                                   Soyuz TMA-5 (2004)              1     9   \n4    Soyuz 26 (1977), Soyuz 38 (1980), Soyuz TM-2 (...              3   430   \n..                                                 ...            ...   ...   \n563        Mercury-Redstone 3 (1961), Apollo 14 (1971)              2     9   \n564                     STS-122 (2008), STS-131 (2010)              2    27   \n565                  Apollo 12 (1969), Skylab 3 (1973)              2    69   \n566               STS-124 (2008), Soyuz TMA-05M (2012)              2   140   \n567                                  Soyuz TM-6 (1988)              1     8   \n\n     Hours  Minutes  \n0       14       28  \n1       20       26  \n2       22       24  \n3       21       29  \n4       18       21  \n..     ...      ...  \n563      0       17  \n564     21        9  \n565     15       45  \n566     17       26  \n567     20       26  \n\n[568 rows x 8 columns]"
                    },
                    "execution_count": 350,
                    "metadata": {},
                    "output_type": "execute_result"
                }
            ],
            "source": "# Total Flight Time is a string, lets create new columns for days, hours minutes, splitting original string, set expand to True to create new columns \nastronauts[['Days','Hours','Minutes']] = astronauts['Total Flight Time (ddd:hh:mm)'].str.split(':', expand=True)\n\n# Change data types of new columns to int\nastronauts.Days = astronauts.Days.astype(int)\nastronauts.Hours = astronauts.Hours.astype(int)\nastronauts.Minutes = astronauts.Minutes.astype(int)\n\n# Drop Total Flight Time column\nastronauts.drop('Total Flight Time (ddd:hh:mm)', axis=1, inplace=True)\n\n# Let's check\nastronauts"
        },
        {
            "cell_type": "markdown",
            "metadata": {},
            "source": "## 4. High-Level Exploration"
        },
        {
            "cell_type": "code",
            "execution_count": 351,
            "metadata": {},
            "outputs": [
                {
                    "name": "stdout",
                    "output_type": "stream",
                    "text": "568 people, including 504 men and 64 women, from 42 countries have gone to space.\n"
                }
            ],
            "source": "# Number of astronauts and countries\nprint(\"{} people, including {} men and {} women, from {} countries have gone to space.\".format(astronauts.Name.nunique(), \n                                                                                                   astronauts.Gender.value_counts()[0], \n                                                                                                   astronauts.Gender.value_counts()[1], \n                                                                                                   astronauts.Country.nunique()))"
        },
        {
            "cell_type": "code",
            "execution_count": 352,
            "metadata": {},
            "outputs": [
                {
                    "name": "stdout",
                    "output_type": "stream",
                    "text": "Humans have spent a total of 55918 days, 7005 hours, and 16323 minutes in space.\n"
                }
            ],
            "source": "# Amount of total time in space\nprint(\"Humans have spent a total of {} days, {} hours, and {} minutes in space.\".format(astronauts.Days.sum(),astronauts.Hours.sum(),astronauts.Minutes.sum()))"
        },
        {
            "cell_type": "code",
            "execution_count": 353,
            "metadata": {},
            "outputs": [
                {
                    "data": {
                        "text/plain": "Name                                               Gennady Padalka\nCountry                                                     Russia\nGender                                                           M\nFlights          Soyuz TM-28 (1998), Soyuz TMA-4 (2004), Soyuz ...\nTotal Flights                                                    5\nDays                                                           878\nHours                                                           11\nMinutes                                                         29\nName: 407, dtype: object"
                    },
                    "execution_count": 353,
                    "metadata": {},
                    "output_type": "execute_result"
                }
            ],
            "source": "# Let's see who's spent the most of amount of time in space using idxmax() \nastronauts.loc[astronauts['Days'].idxmax()]"
        },
        {
            "cell_type": "code",
            "execution_count": 354,
            "metadata": {},
            "outputs": [
                {
                    "name": "stdout",
                    "output_type": "stream",
                    "text": "Gennady Padalka (M) from Russia has spent the most amount of time in space at 878 days, 11 hours, and 29 minutes.\n"
                }
            ],
            "source": "# Amount of total time in space\nprint(\"{} ({}) from {} has spent the most amount of time in space at {} days, {} hours, and {} minutes.\".format(astronauts.loc[astronauts['Days'].idxmax()][0],\n                                                                                         astronauts.loc[astronauts['Days'].idxmax()][2],\n                                                                                         astronauts.loc[astronauts['Days'].idxmax()][1],\n                                                                                         astronauts.loc[astronauts['Days'].idxmax()][-3],\n                                                                                         astronauts.loc[astronauts['Days'].idxmax()][-2],\n                                                                                         astronauts.loc[astronauts['Days'].idxmax()][-1]))               "
        },
        {
            "cell_type": "code",
            "execution_count": 355,
            "metadata": {},
            "outputs": [
                {
                    "data": {
                        "text/html": "<div>\n<style scoped>\n    .dataframe tbody tr th:only-of-type {\n        vertical-align: middle;\n    }\n\n    .dataframe tbody tr th {\n        vertical-align: top;\n    }\n\n    .dataframe thead th {\n        text-align: right;\n    }\n</style>\n<table border=\"1\" class=\"dataframe\">\n  <thead>\n    <tr style=\"text-align: right;\">\n      <th></th>\n      <th>Name</th>\n      <th>Country</th>\n      <th>Gender</th>\n      <th>Flights</th>\n      <th>Total Flights</th>\n      <th>Days</th>\n      <th>Hours</th>\n      <th>Minutes</th>\n    </tr>\n  </thead>\n  <tbody>\n    <tr>\n      <th>14</th>\n      <td>Yi So-yeon</td>\n      <td>South Korea</td>\n      <td>F</td>\n      <td>Soyuz TMA-12 (2008)</td>\n      <td>1</td>\n      <td>10</td>\n      <td>21</td>\n      <td>13</td>\n    </tr>\n    <tr>\n      <th>16</th>\n      <td>Yelena Serova</td>\n      <td>Russia</td>\n      <td>F</td>\n      <td>Soyuz TMA-14M (2014)</td>\n      <td>1</td>\n      <td>167</td>\n      <td>5</td>\n      <td>42</td>\n    </tr>\n    <tr>\n      <th>17</th>\n      <td>Yelena Kondakova</td>\n      <td>Russia</td>\n      <td>F</td>\n      <td>Soyuz TM-20 (1994), STS-84 (1997)</td>\n      <td>2</td>\n      <td>178</td>\n      <td>9</td>\n      <td>41</td>\n    </tr>\n    <tr>\n      <th>33</th>\n      <td>Wendy Lawrence</td>\n      <td>United States</td>\n      <td>F</td>\n      <td>STS-67 (1995), STS-86 (1997), STS-91 (1998), S...</td>\n      <td>4</td>\n      <td>52</td>\n      <td>3</td>\n      <td>55</td>\n    </tr>\n    <tr>\n      <th>67</th>\n      <td>Valentina Tereshkova</td>\n      <td>Soviet Union</td>\n      <td>F</td>\n      <td>Vostok 6 (1963)</td>\n      <td>1</td>\n      <td>2</td>\n      <td>22</td>\n      <td>50</td>\n    </tr>\n    <tr>\n      <th>...</th>\n      <td>...</td>\n      <td>...</td>\n      <td>...</td>\n      <td>...</td>\n      <td>...</td>\n      <td>...</td>\n      <td>...</td>\n      <td>...</td>\n    </tr>\n    <tr>\n      <th>514</th>\n      <td>Bonnie J. Dunbar</td>\n      <td>United States</td>\n      <td>F</td>\n      <td>STS-61-A (1985), STS-32 (1990), STS-50 (1992),...</td>\n      <td>5</td>\n      <td>50</td>\n      <td>8</td>\n      <td>26</td>\n    </tr>\n    <tr>\n      <th>519</th>\n      <td>Barbara Morgan</td>\n      <td>United States</td>\n      <td>F</td>\n      <td>STS-118 (2007)</td>\n      <td>1</td>\n      <td>12</td>\n      <td>17</td>\n      <td>56</td>\n    </tr>\n    <tr>\n      <th>525</th>\n      <td>Anousheh Ansari</td>\n      <td>Iran</td>\n      <td>F</td>\n      <td>Soyuz TMA-9 (2006)</td>\n      <td>1</td>\n      <td>10</td>\n      <td>21</td>\n      <td>5</td>\n    </tr>\n    <tr>\n      <th>526</th>\n      <td>Anne McClain</td>\n      <td>United States</td>\n      <td>F</td>\n      <td>Soyuz MS-11 (2018)</td>\n      <td>1</td>\n      <td>203</td>\n      <td>15</td>\n      <td>16</td>\n    </tr>\n    <tr>\n      <th>527</th>\n      <td>Anna Lee Fisher, M.D.</td>\n      <td>United States</td>\n      <td>F</td>\n      <td>STS-51-A (1984)</td>\n      <td>1</td>\n      <td>7</td>\n      <td>23</td>\n      <td>44</td>\n    </tr>\n  </tbody>\n</table>\n<p>64 rows \u00d7 8 columns</p>\n</div>",
                        "text/plain": "                      Name        Country Gender  \\\n14              Yi So-yeon    South Korea      F   \n16           Yelena Serova         Russia      F   \n17        Yelena Kondakova         Russia      F   \n33          Wendy Lawrence  United States      F   \n67    Valentina Tereshkova   Soviet Union      F   \n..                     ...            ...    ...   \n514       Bonnie J. Dunbar  United States      F   \n519         Barbara Morgan  United States      F   \n525        Anousheh Ansari           Iran      F   \n526           Anne McClain  United States      F   \n527  Anna Lee Fisher, M.D.  United States      F   \n\n                                               Flights  Total Flights  Days  \\\n14                                 Soyuz TMA-12 (2008)              1    10   \n16                                Soyuz TMA-14M (2014)              1   167   \n17                   Soyuz TM-20 (1994), STS-84 (1997)              2   178   \n33   STS-67 (1995), STS-86 (1997), STS-91 (1998), S...              4    52   \n67                                     Vostok 6 (1963)              1     2   \n..                                                 ...            ...   ...   \n514  STS-61-A (1985), STS-32 (1990), STS-50 (1992),...              5    50   \n519                                     STS-118 (2007)              1    12   \n525                                 Soyuz TMA-9 (2006)              1    10   \n526                                 Soyuz MS-11 (2018)              1   203   \n527                                    STS-51-A (1984)              1     7   \n\n     Hours  Minutes  \n14      21       13  \n16       5       42  \n17       9       41  \n33       3       55  \n67      22       50  \n..     ...      ...  \n514      8       26  \n519     17       56  \n525     21        5  \n526     15       16  \n527     23       44  \n\n[64 rows x 8 columns]"
                    },
                    "execution_count": 355,
                    "metadata": {},
                    "output_type": "execute_result"
                }
            ],
            "source": "# Women who've gone to space\nwomen = astronauts[astronauts['Gender']=='F']\nwomen"
        },
        {
            "cell_type": "code",
            "execution_count": 356,
            "metadata": {},
            "outputs": [
                {
                    "data": {
                        "text/html": "<div>\n<style scoped>\n    .dataframe tbody tr th:only-of-type {\n        vertical-align: middle;\n    }\n\n    .dataframe tbody tr th {\n        vertical-align: top;\n    }\n\n    .dataframe thead th {\n        text-align: right;\n    }\n</style>\n<table border=\"1\" class=\"dataframe\">\n  <thead>\n    <tr style=\"text-align: right;\">\n      <th></th>\n      <th>Astronauts</th>\n    </tr>\n  </thead>\n  <tbody>\n    <tr>\n      <th>United States</th>\n      <td>346</td>\n    </tr>\n    <tr>\n      <th>Soviet Union</th>\n      <td>67</td>\n    </tr>\n    <tr>\n      <th>Russia</th>\n      <td>56</td>\n    </tr>\n    <tr>\n      <th>Japan</th>\n      <td>11</td>\n    </tr>\n    <tr>\n      <th>China</th>\n      <td>11</td>\n    </tr>\n    <tr>\n      <th>Canada</th>\n      <td>10</td>\n    </tr>\n    <tr>\n      <th>France</th>\n      <td>10</td>\n    </tr>\n    <tr>\n      <th>Germany</th>\n      <td>10</td>\n    </tr>\n    <tr>\n      <th>Italy</th>\n      <td>7</td>\n    </tr>\n    <tr>\n      <th>United Kingdom</th>\n      <td>3</td>\n    </tr>\n    <tr>\n      <th>Netherlands</th>\n      <td>2</td>\n    </tr>\n    <tr>\n      <th>Bulgaria</th>\n      <td>2</td>\n    </tr>\n    <tr>\n      <th>Kazakhstan</th>\n      <td>2</td>\n    </tr>\n    <tr>\n      <th>Hungary</th>\n      <td>2</td>\n    </tr>\n    <tr>\n      <th>Belgium</th>\n      <td>2</td>\n    </tr>\n    <tr>\n      <th>South Korea</th>\n      <td>1</td>\n    </tr>\n    <tr>\n      <th>Syria</th>\n      <td>1</td>\n    </tr>\n    <tr>\n      <th>Czechoslovakia</th>\n      <td>1</td>\n    </tr>\n    <tr>\n      <th>Romania</th>\n      <td>1</td>\n    </tr>\n    <tr>\n      <th>Iran</th>\n      <td>1</td>\n    </tr>\n    <tr>\n      <th>Spain</th>\n      <td>1</td>\n    </tr>\n    <tr>\n      <th>Switzerland</th>\n      <td>1</td>\n    </tr>\n    <tr>\n      <th>Denmark</th>\n      <td>1</td>\n    </tr>\n    <tr>\n      <th>Cuba</th>\n      <td>1</td>\n    </tr>\n    <tr>\n      <th>Slovakia</th>\n      <td>1</td>\n    </tr>\n    <tr>\n      <th>Poland</th>\n      <td>1</td>\n    </tr>\n    <tr>\n      <th>Malaysia</th>\n      <td>1</td>\n    </tr>\n    <tr>\n      <th>Brazil</th>\n      <td>1</td>\n    </tr>\n    <tr>\n      <th>Austria</th>\n      <td>1</td>\n    </tr>\n    <tr>\n      <th>East Germany</th>\n      <td>1</td>\n    </tr>\n    <tr>\n      <th>Sweden</th>\n      <td>1</td>\n    </tr>\n    <tr>\n      <th>Vietnam</th>\n      <td>1</td>\n    </tr>\n    <tr>\n      <th>India</th>\n      <td>1</td>\n    </tr>\n    <tr>\n      <th>Saudi Arabia</th>\n      <td>1</td>\n    </tr>\n    <tr>\n      <th>United Arab Emirates</th>\n      <td>1</td>\n    </tr>\n    <tr>\n      <th>Afghanistan</th>\n      <td>1</td>\n    </tr>\n    <tr>\n      <th>Peru</th>\n      <td>1</td>\n    </tr>\n    <tr>\n      <th>Ukraine</th>\n      <td>1</td>\n    </tr>\n    <tr>\n      <th>Mexico</th>\n      <td>1</td>\n    </tr>\n    <tr>\n      <th>Israel</th>\n      <td>1</td>\n    </tr>\n    <tr>\n      <th>Mongolia</th>\n      <td>1</td>\n    </tr>\n    <tr>\n      <th>South Africa</th>\n      <td>1</td>\n    </tr>\n  </tbody>\n</table>\n</div>",
                        "text/plain": "                      Astronauts\nUnited States                346\nSoviet Union                  67\nRussia                        56\nJapan                         11\nChina                         11\nCanada                        10\nFrance                        10\nGermany                       10\nItaly                          7\nUnited Kingdom                 3\nNetherlands                    2\nBulgaria                       2\nKazakhstan                     2\nHungary                        2\nBelgium                        2\nSouth Korea                    1\nSyria                          1\nCzechoslovakia                 1\nRomania                        1\nIran                           1\nSpain                          1\nSwitzerland                    1\nDenmark                        1\nCuba                           1\nSlovakia                       1\nPoland                         1\nMalaysia                       1\nBrazil                         1\nAustria                        1\nEast Germany                   1\nSweden                         1\nVietnam                        1\nIndia                          1\nSaudi Arabia                   1\nUnited Arab Emirates           1\nAfghanistan                    1\nPeru                           1\nUkraine                        1\nMexico                         1\nIsrael                         1\nMongolia                       1\nSouth Africa                   1"
                    },
                    "execution_count": 356,
                    "metadata": {},
                    "output_type": "execute_result"
                }
            ],
            "source": "# Astronauts by country\ncountries = astronauts.Country.value_counts()\ncountries = pd.DataFrame(countries).rename(columns={'Country':'Astronauts'})\ncountries"
        },
        {
            "cell_type": "markdown",
            "metadata": {},
            "source": "## 5. Reshape List-Like Data"
        },
        {
            "cell_type": "code",
            "execution_count": 357,
            "metadata": {},
            "outputs": [
                {
                    "data": {
                        "text/html": "<div>\n<style scoped>\n    .dataframe tbody tr th:only-of-type {\n        vertical-align: middle;\n    }\n\n    .dataframe tbody tr th {\n        vertical-align: top;\n    }\n\n    .dataframe thead th {\n        text-align: right;\n    }\n</style>\n<table border=\"1\" class=\"dataframe\">\n  <thead>\n    <tr style=\"text-align: right;\">\n      <th></th>\n      <th>Name</th>\n      <th>Country</th>\n      <th>Gender</th>\n      <th>Flights</th>\n      <th>Total Flights</th>\n      <th>Days</th>\n      <th>Hours</th>\n      <th>Minutes</th>\n    </tr>\n  </thead>\n  <tbody>\n    <tr>\n      <th>0</th>\n      <td>Zhang Xiaoguang</td>\n      <td>China</td>\n      <td>M</td>\n      <td>Shenzhou 10 (2013)</td>\n      <td>1</td>\n      <td>14</td>\n      <td>14</td>\n      <td>28</td>\n    </tr>\n    <tr>\n      <th>1</th>\n      <td>Zhai Zhigang</td>\n      <td>China</td>\n      <td>M</td>\n      <td>Shenzhou 7 (2008)</td>\n      <td>1</td>\n      <td>2</td>\n      <td>20</td>\n      <td>26</td>\n    </tr>\n    <tr>\n      <th>2</th>\n      <td>Yury Usachov</td>\n      <td>Russia</td>\n      <td>M</td>\n      <td>Soyuz TM-18 (1994), Soyuz TM-23 (1996), STS-10...</td>\n      <td>4</td>\n      <td>552</td>\n      <td>22</td>\n      <td>24</td>\n    </tr>\n    <tr>\n      <th>3</th>\n      <td>Yuri Shargin</td>\n      <td>Russia</td>\n      <td>M</td>\n      <td>Soyuz TMA-5 (2004)</td>\n      <td>1</td>\n      <td>9</td>\n      <td>21</td>\n      <td>29</td>\n    </tr>\n    <tr>\n      <th>4</th>\n      <td>Yuri Romanenko</td>\n      <td>Soviet Union</td>\n      <td>M</td>\n      <td>Soyuz 26 (1977), Soyuz 38 (1980), Soyuz TM-2 (...</td>\n      <td>3</td>\n      <td>430</td>\n      <td>18</td>\n      <td>21</td>\n    </tr>\n  </tbody>\n</table>\n</div>",
                        "text/plain": "              Name       Country Gender  \\\n0  Zhang Xiaoguang         China      M   \n1     Zhai Zhigang         China      M   \n2     Yury Usachov        Russia      M   \n3     Yuri Shargin        Russia      M   \n4   Yuri Romanenko  Soviet Union      M   \n\n                                             Flights  Total Flights  Days  \\\n0                                 Shenzhou 10 (2013)              1    14   \n1                                  Shenzhou 7 (2008)              1     2   \n2  Soyuz TM-18 (1994), Soyuz TM-23 (1996), STS-10...              4   552   \n3                                 Soyuz TMA-5 (2004)              1     9   \n4  Soyuz 26 (1977), Soyuz 38 (1980), Soyuz TM-2 (...              3   430   \n\n   Hours  Minutes  \n0     14       28  \n1     20       26  \n2     22       24  \n3     21       29  \n4     18       21  "
                    },
                    "execution_count": 357,
                    "metadata": {},
                    "output_type": "execute_result"
                }
            ],
            "source": "# Check our dataframe again - Flights has list-like data, let's split, add year column, and clean it up\nastronauts.head()"
        },
        {
            "cell_type": "code",
            "execution_count": 358,
            "metadata": {},
            "outputs": [],
            "source": "# Assign values of split strings to column 'Flight' and apply .explode to transform list-like column into separate rows\nastronauts = astronauts.assign(Flights=astronauts['Flights'].str.split(',')).explode('Flights')"
        },
        {
            "cell_type": "code",
            "execution_count": 359,
            "metadata": {},
            "outputs": [
                {
                    "data": {
                        "text/html": "<div>\n<style scoped>\n    .dataframe tbody tr th:only-of-type {\n        vertical-align: middle;\n    }\n\n    .dataframe tbody tr th {\n        vertical-align: top;\n    }\n\n    .dataframe thead th {\n        text-align: right;\n    }\n</style>\n<table border=\"1\" class=\"dataframe\">\n  <thead>\n    <tr style=\"text-align: right;\">\n      <th></th>\n      <th>Name</th>\n      <th>Country</th>\n      <th>Gender</th>\n      <th>Flights</th>\n      <th>Total Flights</th>\n      <th>Days</th>\n      <th>Hours</th>\n      <th>Minutes</th>\n    </tr>\n  </thead>\n  <tbody>\n    <tr>\n      <th>0</th>\n      <td>Zhang Xiaoguang</td>\n      <td>China</td>\n      <td>M</td>\n      <td>Shenzhou 10 (2013)</td>\n      <td>1</td>\n      <td>14</td>\n      <td>14</td>\n      <td>28</td>\n    </tr>\n    <tr>\n      <th>1</th>\n      <td>Zhai Zhigang</td>\n      <td>China</td>\n      <td>M</td>\n      <td>Shenzhou 7 (2008)</td>\n      <td>1</td>\n      <td>2</td>\n      <td>20</td>\n      <td>26</td>\n    </tr>\n    <tr>\n      <th>2</th>\n      <td>Yury Usachov</td>\n      <td>Russia</td>\n      <td>M</td>\n      <td>Soyuz TM-18 (1994)</td>\n      <td>4</td>\n      <td>552</td>\n      <td>22</td>\n      <td>24</td>\n    </tr>\n    <tr>\n      <th>3</th>\n      <td>Yury Usachov</td>\n      <td>Russia</td>\n      <td>M</td>\n      <td>Soyuz TM-23 (1996)</td>\n      <td>4</td>\n      <td>552</td>\n      <td>22</td>\n      <td>24</td>\n    </tr>\n    <tr>\n      <th>4</th>\n      <td>Yury Usachov</td>\n      <td>Russia</td>\n      <td>M</td>\n      <td>STS-101 (2000)</td>\n      <td>4</td>\n      <td>552</td>\n      <td>22</td>\n      <td>24</td>\n    </tr>\n    <tr>\n      <th>...</th>\n      <td>...</td>\n      <td>...</td>\n      <td>...</td>\n      <td>...</td>\n      <td>...</td>\n      <td>...</td>\n      <td>...</td>\n      <td>...</td>\n    </tr>\n    <tr>\n      <th>1278</th>\n      <td>Alan Bean</td>\n      <td>United States</td>\n      <td>M</td>\n      <td>Apollo 12 (1969)</td>\n      <td>2</td>\n      <td>69</td>\n      <td>15</td>\n      <td>45</td>\n    </tr>\n    <tr>\n      <th>1279</th>\n      <td>Alan Bean</td>\n      <td>United States</td>\n      <td>M</td>\n      <td>Skylab 3 (1973)</td>\n      <td>2</td>\n      <td>69</td>\n      <td>15</td>\n      <td>45</td>\n    </tr>\n    <tr>\n      <th>1280</th>\n      <td>Akihiko Hoshide</td>\n      <td>Japan</td>\n      <td>M</td>\n      <td>STS-124 (2008)</td>\n      <td>2</td>\n      <td>140</td>\n      <td>17</td>\n      <td>26</td>\n    </tr>\n    <tr>\n      <th>1281</th>\n      <td>Akihiko Hoshide</td>\n      <td>Japan</td>\n      <td>M</td>\n      <td>Soyuz TMA-05M (2012)</td>\n      <td>2</td>\n      <td>140</td>\n      <td>17</td>\n      <td>26</td>\n    </tr>\n    <tr>\n      <th>1282</th>\n      <td>Abdul Ahad Mohmand</td>\n      <td>Afghanistan</td>\n      <td>M</td>\n      <td>Soyuz TM-6 (1988)</td>\n      <td>1</td>\n      <td>8</td>\n      <td>20</td>\n      <td>26</td>\n    </tr>\n  </tbody>\n</table>\n<p>1283 rows \u00d7 8 columns</p>\n</div>",
                        "text/plain": "                    Name        Country Gender                Flights  \\\n0        Zhang Xiaoguang          China      M     Shenzhou 10 (2013)   \n1           Zhai Zhigang          China      M      Shenzhou 7 (2008)   \n2           Yury Usachov         Russia      M     Soyuz TM-18 (1994)   \n3           Yury Usachov         Russia      M     Soyuz TM-23 (1996)   \n4           Yury Usachov         Russia      M         STS-101 (2000)   \n...                  ...            ...    ...                    ...   \n1278           Alan Bean  United States      M       Apollo 12 (1969)   \n1279           Alan Bean  United States      M        Skylab 3 (1973)   \n1280     Akihiko Hoshide          Japan      M         STS-124 (2008)   \n1281     Akihiko Hoshide          Japan      M   Soyuz TMA-05M (2012)   \n1282  Abdul Ahad Mohmand    Afghanistan      M      Soyuz TM-6 (1988)   \n\n      Total Flights  Days  Hours  Minutes  \n0                 1    14     14       28  \n1                 1     2     20       26  \n2                 4   552     22       24  \n3                 4   552     22       24  \n4                 4   552     22       24  \n...             ...   ...    ...      ...  \n1278              2    69     15       45  \n1279              2    69     15       45  \n1280              2   140     17       26  \n1281              2   140     17       26  \n1282              1     8     20       26  \n\n[1283 rows x 8 columns]"
                    },
                    "execution_count": 359,
                    "metadata": {},
                    "output_type": "execute_result"
                }
            ],
            "source": "# The above keeps the original index. Let's reset the index \nastronauts.reset_index(drop=True, inplace=True)\n\n# Let's check, we have more rows now as expected since we've separated flights into rows\nastronauts"
        },
        {
            "cell_type": "code",
            "execution_count": 360,
            "metadata": {
                "scrolled": false
            },
            "outputs": [
                {
                    "data": {
                        "text/html": "<div>\n<style scoped>\n    .dataframe tbody tr th:only-of-type {\n        vertical-align: middle;\n    }\n\n    .dataframe tbody tr th {\n        vertical-align: top;\n    }\n\n    .dataframe thead th {\n        text-align: right;\n    }\n</style>\n<table border=\"1\" class=\"dataframe\">\n  <thead>\n    <tr style=\"text-align: right;\">\n      <th></th>\n      <th>Country</th>\n      <th>Gender</th>\n      <th>Spacecraft</th>\n      <th>Year</th>\n      <th>Total Flights</th>\n    </tr>\n    <tr>\n      <th>Name</th>\n      <th></th>\n      <th></th>\n      <th></th>\n      <th></th>\n      <th></th>\n    </tr>\n  </thead>\n  <tbody>\n    <tr>\n      <th>Gherman Titov</th>\n      <td>Soviet Union</td>\n      <td>M</td>\n      <td>Vostok 2</td>\n      <td>1961</td>\n      <td>1</td>\n    </tr>\n    <tr>\n      <th>Virgil I. \"Gus\" Grissom</th>\n      <td>United States</td>\n      <td>M</td>\n      <td>Mercury-Redstone 4</td>\n      <td>1961</td>\n      <td>2</td>\n    </tr>\n    <tr>\n      <th>Yuri Gagarin</th>\n      <td>Soviet Union</td>\n      <td>M</td>\n      <td>Vostok 1</td>\n      <td>1961</td>\n      <td>1</td>\n    </tr>\n    <tr>\n      <th>Alan Shepard</th>\n      <td>United States</td>\n      <td>M</td>\n      <td>Mercury-Redstone 3</td>\n      <td>1961</td>\n      <td>2</td>\n    </tr>\n    <tr>\n      <th>John Glenn</th>\n      <td>United States</td>\n      <td>M</td>\n      <td>Mercury-Atlas 6</td>\n      <td>1962</td>\n      <td>2</td>\n    </tr>\n    <tr>\n      <th>Walter Schirra</th>\n      <td>United States</td>\n      <td>M</td>\n      <td>Mercury-Atlas 8</td>\n      <td>1962</td>\n      <td>3</td>\n    </tr>\n    <tr>\n      <th>Andriyan Nikolayev</th>\n      <td>Soviet Union</td>\n      <td>M</td>\n      <td>Vostok 3</td>\n      <td>1962</td>\n      <td>2</td>\n    </tr>\n    <tr>\n      <th>Scott Carpenter</th>\n      <td>United States</td>\n      <td>M</td>\n      <td>Mercury-Atlas 7</td>\n      <td>1962</td>\n      <td>1</td>\n    </tr>\n    <tr>\n      <th>Pavel Popovich</th>\n      <td>Soviet Union</td>\n      <td>M</td>\n      <td>Vostok 4</td>\n      <td>1962</td>\n      <td>2</td>\n    </tr>\n    <tr>\n      <th>Valery Bykovsky</th>\n      <td>Soviet Union</td>\n      <td>M</td>\n      <td>Vostok 5</td>\n      <td>1963</td>\n      <td>3</td>\n    </tr>\n    <tr>\n      <th>Hazza Al Mansouri</th>\n      <td>United Arab Emirates</td>\n      <td>M</td>\n      <td>Soyuz MS-15</td>\n      <td>2019</td>\n      <td>1</td>\n    </tr>\n    <tr>\n      <th>Luca Parmitano</th>\n      <td>Italy</td>\n      <td>M</td>\n      <td>Soyuz MS-13</td>\n      <td>2019</td>\n      <td>2</td>\n    </tr>\n    <tr>\n      <th>Kathleen Rubins</th>\n      <td>United States</td>\n      <td>F</td>\n      <td>Soyuz MS-17</td>\n      <td>2020</td>\n      <td>2</td>\n    </tr>\n    <tr>\n      <th>Douglas G. Hurley</th>\n      <td>United States</td>\n      <td>M</td>\n      <td>Crew Dragon Demo-2</td>\n      <td>2020</td>\n      <td>3</td>\n    </tr>\n    <tr>\n      <th>Sergey Kud-Sverchkov</th>\n      <td>Russia</td>\n      <td>M</td>\n      <td>Soyuz MS-17</td>\n      <td>2020</td>\n      <td>1</td>\n    </tr>\n    <tr>\n      <th>Anatoli Ivanishin</th>\n      <td>Russia</td>\n      <td>M</td>\n      <td>Soyuz MS-16</td>\n      <td>2020</td>\n      <td>3</td>\n    </tr>\n    <tr>\n      <th>Robert L. Behnken</th>\n      <td>United States</td>\n      <td>M</td>\n      <td>Crew Dragon Demo-2</td>\n      <td>2020</td>\n      <td>3</td>\n    </tr>\n    <tr>\n      <th>Sergey Nikolayevich Ryzhikov</th>\n      <td>Russia</td>\n      <td>M</td>\n      <td>Soyuz MS-17</td>\n      <td>2020</td>\n      <td>2</td>\n    </tr>\n    <tr>\n      <th>Christopher Cassidy</th>\n      <td>United States</td>\n      <td>M</td>\n      <td>Soyuz MS-16</td>\n      <td>2020</td>\n      <td>3</td>\n    </tr>\n    <tr>\n      <th>Ivan Vagner</th>\n      <td>Russia</td>\n      <td>M</td>\n      <td>Soyuz MS-16</td>\n      <td>2020</td>\n      <td>1</td>\n    </tr>\n  </tbody>\n</table>\n</div>",
                        "text/plain": "                                           Country Gender  \\\nName                                                        \nGherman Titov                         Soviet Union      M   \nVirgil I. \"Gus\" Grissom              United States      M   \nYuri Gagarin                          Soviet Union      M   \nAlan Shepard                         United States      M   \nJohn Glenn                           United States      M   \nWalter Schirra                       United States      M   \nAndriyan Nikolayev                    Soviet Union      M   \nScott Carpenter                      United States      M   \nPavel Popovich                        Soviet Union      M   \nValery Bykovsky                       Soviet Union      M   \nHazza Al Mansouri             United Arab Emirates      M   \nLuca Parmitano                               Italy      M   \nKathleen Rubins                      United States      F   \nDouglas G. Hurley                    United States      M   \nSergey Kud-Sverchkov                        Russia      M   \nAnatoli Ivanishin                           Russia      M   \nRobert L. Behnken                    United States      M   \nSergey Nikolayevich Ryzhikov                Russia      M   \nChristopher Cassidy                  United States      M   \nIvan Vagner                                 Russia      M   \n\n                                       Spacecraft  Year  Total Flights  \nName                                                                    \nGherman Titov                            Vostok 2  1961              1  \nVirgil I. \"Gus\" Grissom        Mercury-Redstone 4  1961              2  \nYuri Gagarin                             Vostok 1  1961              1  \nAlan Shepard                   Mercury-Redstone 3  1961              2  \nJohn Glenn                        Mercury-Atlas 6  1962              2  \nWalter Schirra                    Mercury-Atlas 8  1962              3  \nAndriyan Nikolayev                       Vostok 3  1962              2  \nScott Carpenter                   Mercury-Atlas 7  1962              1  \nPavel Popovich                           Vostok 4  1962              2  \nValery Bykovsky                          Vostok 5  1963              3  \nHazza Al Mansouri                     Soyuz MS-15  2019              1  \nLuca Parmitano                        Soyuz MS-13  2019              2  \nKathleen Rubins                       Soyuz MS-17  2020              2  \nDouglas G. Hurley              Crew Dragon Demo-2  2020              3  \nSergey Kud-Sverchkov                  Soyuz MS-17  2020              1  \nAnatoli Ivanishin                     Soyuz MS-16  2020              3  \nRobert L. Behnken              Crew Dragon Demo-2  2020              3  \nSergey Nikolayevich Ryzhikov          Soyuz MS-17  2020              2  \nChristopher Cassidy                   Soyuz MS-16  2020              3  \nIvan Vagner                           Soyuz MS-16  2020              1  "
                    },
                    "execution_count": 360,
                    "metadata": {},
                    "output_type": "execute_result"
                }
            ],
            "source": "# Create new columns with Spacecraft and Year, splitting original messy 'Flights' string, set expand to True to create new columns \nastronauts[['Spacecraft','Year']] = astronauts['Flights'].str.split(' \\(', expand=True)\n\n# Since the Year will have the closing parantheses still left, let's remove it\nastronauts['Year'] = astronauts['Year'].replace('\\)','', regex=True)\n\n# Drop original messy 'Flights' column\nastronauts.drop('Flights', axis=1, inplace=True)\n\n# An alternative to the above would be to use .str.get() on the split string and assign to new columns\n\n# Drop Days, Hours, Minutes as they don't make sense anymore here since we've separated flights \nastronauts.drop(['Days', 'Hours', 'Minutes'], axis=1, inplace=True)\n\n# Sort values by Year\nastronauts.sort_values(by='Year',inplace=True)\n\n# Set index to Name\nastronauts = astronauts.set_index('Name')\n\n# Reorder the columns\nastronauts = astronauts[['Country', 'Gender', 'Spacecraft', 'Year','Total Flights']]\n\n# Let's check - we have the new Spacecraft and Year columns \npd.concat([astronauts.head(10),astronauts.tail(10)])"
        }
    ],
    "metadata": {
        "kernelspec": {
            "display_name": "Python 3.7",
            "language": "python",
            "name": "python3"
        },
        "language_info": {
            "codemirror_mode": {
                "name": "ipython",
                "version": 3
            },
            "file_extension": ".py",
            "mimetype": "text/x-python",
            "name": "python",
            "nbconvert_exporter": "python",
            "pygments_lexer": "ipython3",
            "version": "3.7.9"
        }
    },
    "nbformat": 4,
    "nbformat_minor": 1
}